{
 "cells": [
  {
   "cell_type": "code",
   "execution_count": 5,
   "metadata": {},
   "outputs": [],
   "source": [
    "import pandas as pd\n",
    "\n",
    "# Load CSV file\n",
    "df = pd.read_csv('submissions_load_shortfall_3h.csv')\n",
    "\n",
    "# Fill missing values with a specific value (e.g., 0)\n",
    "df['load_shortfall_3h'].fillna(0, inplace=True)\n",
    "\n",
    "# Convert the column to numeric (ignore errors to handle non-numeric values)\n",
    "df['load_shortfall_3h'] = pd.to_numeric(df['load_shortfall_3h'], errors='coerce')\n",
    "df.to_csv('load_shortfall.csv', index=False)"
   ]
  }
 ],
 "metadata": {
  "kernelspec": {
   "display_name": "base",
   "language": "python",
   "name": "python3"
  },
  "language_info": {
   "codemirror_mode": {
    "name": "ipython",
    "version": 3
   },
   "file_extension": ".py",
   "mimetype": "text/x-python",
   "name": "python",
   "nbconvert_exporter": "python",
   "pygments_lexer": "ipython3",
   "version": "3.11.5"
  }
 },
 "nbformat": 4,
 "nbformat_minor": 2
}
